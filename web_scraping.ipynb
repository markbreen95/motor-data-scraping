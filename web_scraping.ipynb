{
 "cells": [
  {
   "cell_type": "code",
   "execution_count": 12,
   "metadata": {},
   "outputs": [],
   "source": [
    "import urllib.request\n",
    "from bs4 import BeautifulSoup\n",
    "import pandas as pd"
   ]
  },
  {
   "cell_type": "code",
   "execution_count": 115,
   "metadata": {},
   "outputs": [],
   "source": [
    "url ='https://www.carzone.ie/used-cars/audi?make=AUDI&page=1'\n",
    "page = urllib.request.urlopen(url)\n",
    "soup = BeautifulSoup(page)"
   ]
  },
  {
   "cell_type": "code",
   "execution_count": 116,
   "metadata": {},
   "outputs": [],
   "source": [
    "filter_values = ['Enhanced Search Image Link', 'Go to advert and open live chat']\n",
    "dealer_filter = ['Dealer', 'Private']\n",
    "car_desc = []\n",
    "dealer_values = []\n",
    "car_values = []\n",
    "all_cars = soup.find_all('stock-summary-item')\n",
    "for car in all_cars:\n",
    "    car_details = car.find_all('a')\n",
    "    dealer_details = car.find_all('strong')\n",
    "    for car_detail in car_details:\n",
    "        car_label = car_detail.get('aria-label')\n",
    "        if car_label not in filter_values and car_label is not None:\n",
    "            car_desc.append(car_label)\n",
    "    for dealer_detail in dealer_details:\n",
    "#        print(dealer_detail)\n",
    "        if dealer_detail.contents[0] in dealer_filter:\n",
    "#            print(dealer_detail.contents[0])\n",
    "            dealer_values.append(dealer_detail.contents[0])\n",
    "        elif not dealer_detail.has_attr('class'):\n",
    "            car_values.append(dealer_detail.contents[0])"
   ]
  },
  {
   "cell_type": "code",
   "execution_count": 117,
   "metadata": {},
   "outputs": [
    {
     "name": "stdout",
     "output_type": "stream",
     "text": [
      "Length of car values 11\n",
      "Length of dealer values 11\n",
      "Length of car_desc values 11\n"
     ]
    }
   ],
   "source": [
    "print('Length of car values', len(car_values))\n",
    "print('Length of dealer values', len(dealer_values))\n",
    "print('Length of car_desc values', len(car_desc))"
   ]
  },
  {
   "cell_type": "code",
   "execution_count": 113,
   "metadata": {},
   "outputs": [],
   "source": [
    "carzone_data = pd.DataFrame({'car_description': car_desc, 'dealer': dealer_values, 'car_details': car_values})"
   ]
  },
  {
   "cell_type": "code",
   "execution_count": 114,
   "metadata": {},
   "outputs": [
    {
     "data": {
      "text/html": [
       "<div>\n",
       "<style scoped>\n",
       "    .dataframe tbody tr th:only-of-type {\n",
       "        vertical-align: middle;\n",
       "    }\n",
       "\n",
       "    .dataframe tbody tr th {\n",
       "        vertical-align: top;\n",
       "    }\n",
       "\n",
       "    .dataframe thead th {\n",
       "        text-align: right;\n",
       "    }\n",
       "</style>\n",
       "<table border=\"1\" class=\"dataframe\">\n",
       "  <thead>\n",
       "    <tr style=\"text-align: right;\">\n",
       "      <th></th>\n",
       "      <th>car_description</th>\n",
       "      <th>dealer</th>\n",
       "      <th>car_details</th>\n",
       "    </tr>\n",
       "  </thead>\n",
       "  <tbody>\n",
       "    <tr>\n",
       "      <td>0</td>\n",
       "      <td>Audi Q3 *SAVE €6289 vs NEW RRP* 35TFSI 150 S LINE</td>\n",
       "      <td>Dealer</td>\n",
       "      <td>2019 (192) • 10km / 6m • 1.5 Petrol</td>\n",
       "    </tr>\n",
       "    <tr>\n",
       "      <td>1</td>\n",
       "      <td>Audi 100 CD</td>\n",
       "      <td>Private</td>\n",
       "      <td>1986 • 186,684km / 116,000m • 2.0 Petrol</td>\n",
       "    </tr>\n",
       "    <tr>\n",
       "      <td>2</td>\n",
       "      <td>Audi A1 SB 30TFSI S Line 116HP - In stock &amp; av...</td>\n",
       "      <td>Dealer</td>\n",
       "      <td>2020 (201) • 55km / 34m • 1.0 Petrol</td>\n",
       "    </tr>\n",
       "    <tr>\n",
       "      <td>3</td>\n",
       "      <td>Audi A1 SB 1.0TFSI 116 S LINE **ORDER YOUR NEW...</td>\n",
       "      <td>Dealer</td>\n",
       "      <td>2020 (201) • 34km / 21m • 1.0 Petrol</td>\n",
       "    </tr>\n",
       "    <tr>\n",
       "      <td>4</td>\n",
       "      <td>Audi A1 Sportback SE 1.0Tfsi 116Bhp</td>\n",
       "      <td>Dealer</td>\n",
       "      <td>2020 (201) • 122km / 76m • 1.0 Petrol</td>\n",
       "    </tr>\n",
       "  </tbody>\n",
       "</table>\n",
       "</div>"
      ],
      "text/plain": [
       "                                     car_description   dealer  \\\n",
       "0  Audi Q3 *SAVE €6289 vs NEW RRP* 35TFSI 150 S LINE   Dealer   \n",
       "1                                        Audi 100 CD  Private   \n",
       "2  Audi A1 SB 30TFSI S Line 116HP - In stock & av...   Dealer   \n",
       "3  Audi A1 SB 1.0TFSI 116 S LINE **ORDER YOUR NEW...   Dealer   \n",
       "4                Audi A1 Sportback SE 1.0Tfsi 116Bhp   Dealer   \n",
       "\n",
       "                                car_details  \n",
       "0       2019 (192) • 10km / 6m • 1.5 Petrol  \n",
       "1  1986 • 186,684km / 116,000m • 2.0 Petrol  \n",
       "2      2020 (201) • 55km / 34m • 1.0 Petrol  \n",
       "3      2020 (201) • 34km / 21m • 1.0 Petrol  \n",
       "4     2020 (201) • 122km / 76m • 1.0 Petrol  "
      ]
     },
     "execution_count": 114,
     "metadata": {},
     "output_type": "execute_result"
    }
   ],
   "source": [
    "\n",
    "carzone_data.head()"
   ]
  },
  {
   "cell_type": "code",
   "execution_count": 156,
   "metadata": {},
   "outputs": [],
   "source": [
    "filter_values = ['Enhanced Search Image Link', 'Go to advert and open live chat']\n",
    "dealer_filter = ['Dealer', 'Private']\n",
    "car_desc = []\n",
    "dealer_values = []\n",
    "year_data = []\n",
    "mileage_data = []\n",
    "engine_data = []\n",
    "accessory_data = []\n",
    "prices = []\n",
    "\n",
    "for i in range(2):\n",
    "    url ='https://www.carzone.ie/used-cars/audi?make=AUDI&page=' + str(i)\n",
    "    page = urllib.request.urlopen(url)\n",
    "    soup = BeautifulSoup(page)\n",
    "\n",
    "    all_cars = soup.find_all('stock-summary-item')\n",
    "    for car in all_cars:\n",
    "        car_details = car.find_all('a')\n",
    "        dealer_details = car.find_all('strong')\n",
    "        price_details = car.find_all('span', class_='ng-star-inserted')\n",
    "        accessory_details = car.find_all('p', class_='stock-summary__description ng-star-inserted')\n",
    "        #print(accessory_details)\n",
    "        #print(price_details)\n",
    "        for accessory_detail in accessory_details:\n",
    "            accessory_data.append(accessory_detail.contents[0])\n",
    "        for price_detail in price_details:\n",
    "            prices.append(price_detail.contents[0])\n",
    "        for car_detail in car_details:\n",
    "            car_label = car_detail.get('aria-label')\n",
    "            if car_label not in filter_values and car_label is not None:\n",
    "                car_desc.append(car_label)\n",
    "        for dealer_detail in dealer_details:\n",
    "    #        print(dealer_detail)\n",
    "            if dealer_detail.contents[0] in dealer_filter:\n",
    "    #            print(dealer_detail.contents[0])\n",
    "                dealer_values.append(dealer_detail.contents[0])\n",
    "            elif not dealer_detail.has_attr('class'):\n",
    "                car_values = dealer_detail.contents[0].split('•')\n",
    "                #print(car_values)\n",
    "                if len(car_values) == 2:\n",
    "                    mileage_data.append('')\n",
    "                    year_data.append(car_values[0])\n",
    "                    engine_data.append(car_values[1])\n",
    "                elif len(car_values) == 3:\n",
    "                    year_data.append(car_values[0])\n",
    "                    mileage_data.append(car_values[1])\n",
    "                    engine_data.append(car_values[2])\n",
    "#                year_data.append(car_values[0])\n",
    "#                mileage_data.append(car_values[1])\n",
    "#                engine_data.append(car_values[2])\n",
    "#                car_values.append(dealer_detail.contents[0])"
   ]
  },
  {
   "cell_type": "code",
   "execution_count": 157,
   "metadata": {},
   "outputs": [
    {
     "name": "stdout",
     "output_type": "stream",
     "text": [
      "Length of dealer values 22\n",
      "Length of car_desc values 22\n",
      "Length of price values 22\n",
      "Length of mileage values 22\n",
      "Length of engine values 22\n",
      "Length of year values 22\n",
      "Length of accessory values 22\n"
     ]
    }
   ],
   "source": [
    "print('Length of dealer values', len(dealer_values))\n",
    "print('Length of car_desc values', len(car_desc))\n",
    "print('Length of price values', len(prices))\n",
    "print('Length of mileage values', len(mileage_data))\n",
    "print('Length of engine values', len(engine_data))\n",
    "print('Length of year values', len(year_data))\n",
    "print('Length of accessory values', len(accessory_data))"
   ]
  },
  {
   "cell_type": "code",
   "execution_count": 158,
   "metadata": {},
   "outputs": [],
   "source": [
    "carzone_data = pd.DataFrame({'car_description': car_desc, 'dealer': dealer_values, \n",
    "                             'prices': prices, 'year': year_data,\n",
    "                             'mileage': mileage_data, 'engine_size': engine_data,\n",
    "                             'accessories': accessory_data})"
   ]
  },
  {
   "cell_type": "code",
   "execution_count": 159,
   "metadata": {},
   "outputs": [
    {
     "data": {
      "text/html": [
       "<div>\n",
       "<style scoped>\n",
       "    .dataframe tbody tr th:only-of-type {\n",
       "        vertical-align: middle;\n",
       "    }\n",
       "\n",
       "    .dataframe tbody tr th {\n",
       "        vertical-align: top;\n",
       "    }\n",
       "\n",
       "    .dataframe thead th {\n",
       "        text-align: right;\n",
       "    }\n",
       "</style>\n",
       "<table border=\"1\" class=\"dataframe\">\n",
       "  <thead>\n",
       "    <tr style=\"text-align: right;\">\n",
       "      <th></th>\n",
       "      <th>car_description</th>\n",
       "      <th>dealer</th>\n",
       "      <th>prices</th>\n",
       "      <th>year</th>\n",
       "      <th>mileage</th>\n",
       "      <th>engine_size</th>\n",
       "      <th>accessories</th>\n",
       "    </tr>\n",
       "  </thead>\n",
       "  <tbody>\n",
       "    <tr>\n",
       "      <td>0</td>\n",
       "      <td>Audi Q7 3.0 TDI S-LINE QUATTRO 272 BHP AUTO</td>\n",
       "      <td>Dealer</td>\n",
       "      <td>€49,950</td>\n",
       "      <td>2016 (161)</td>\n",
       "      <td>143,232km / 89,000m</td>\n",
       "      <td>3.0 Diesel</td>\n",
       "      <td>==2016 (161)AUDI Q7 3.0 TDI S-LINE 272 BHP QUA...</td>\n",
       "    </tr>\n",
       "    <tr>\n",
       "      <td>1</td>\n",
       "      <td>Audi 100 CD</td>\n",
       "      <td>Private</td>\n",
       "      <td>€4,500</td>\n",
       "      <td>1986</td>\n",
       "      <td>186,684km / 116,000m</td>\n",
       "      <td>2.0 Petrol</td>\n",
       "      <td>Electric sunroof and windows,  remote alarm an...</td>\n",
       "    </tr>\n",
       "    <tr>\n",
       "      <td>2</td>\n",
       "      <td>Audi A1 SB 30TFSI S Line 116HP - In stock &amp; av...</td>\n",
       "      <td>Dealer</td>\n",
       "      <td>€30,683</td>\n",
       "      <td>2020 (201)</td>\n",
       "      <td>55km / 34m</td>\n",
       "      <td>1.0 Petrol</td>\n",
       "      <td>Bluetooth Interface,  Mobile Phone Preparation...</td>\n",
       "    </tr>\n",
       "    <tr>\n",
       "      <td>3</td>\n",
       "      <td>Audi A1 SB 1.0TFSI 116 S LINE **ORDER YOUR NEW...</td>\n",
       "      <td>Dealer</td>\n",
       "      <td>€30,137</td>\n",
       "      <td>2020 (201)</td>\n",
       "      <td>34km / 21m</td>\n",
       "      <td>1.0 Petrol</td>\n",
       "      <td>Audi Sound System,  Bluetooth Interface,  CD P...</td>\n",
       "    </tr>\n",
       "    <tr>\n",
       "      <td>4</td>\n",
       "      <td>Audi A1 Sportback SE 1.0Tfsi 116Bhp</td>\n",
       "      <td>Dealer</td>\n",
       "      <td>€28,875</td>\n",
       "      <td>2020 (201)</td>\n",
       "      <td>122km / 76m</td>\n",
       "      <td>1.0 Petrol</td>\n",
       "      <td>Bluetooth Interface,  Concert Radio,  Cruise C...</td>\n",
       "    </tr>\n",
       "  </tbody>\n",
       "</table>\n",
       "</div>"
      ],
      "text/plain": [
       "                                     car_description   dealer   prices  \\\n",
       "0        Audi Q7 3.0 TDI S-LINE QUATTRO 272 BHP AUTO   Dealer  €49,950   \n",
       "1                                        Audi 100 CD  Private   €4,500   \n",
       "2  Audi A1 SB 30TFSI S Line 116HP - In stock & av...   Dealer  €30,683   \n",
       "3  Audi A1 SB 1.0TFSI 116 S LINE **ORDER YOUR NEW...   Dealer  €30,137   \n",
       "4                Audi A1 Sportback SE 1.0Tfsi 116Bhp   Dealer  €28,875   \n",
       "\n",
       "          year                 mileage  engine_size  \\\n",
       "0  2016 (161)     143,232km / 89,000m    3.0 Diesel   \n",
       "1        1986    186,684km / 116,000m    2.0 Petrol   \n",
       "2  2020 (201)              55km / 34m    1.0 Petrol   \n",
       "3  2020 (201)              34km / 21m    1.0 Petrol   \n",
       "4  2020 (201)             122km / 76m    1.0 Petrol   \n",
       "\n",
       "                                         accessories  \n",
       "0  ==2016 (161)AUDI Q7 3.0 TDI S-LINE 272 BHP QUA...  \n",
       "1  Electric sunroof and windows,  remote alarm an...  \n",
       "2  Bluetooth Interface,  Mobile Phone Preparation...  \n",
       "3  Audi Sound System,  Bluetooth Interface,  CD P...  \n",
       "4  Bluetooth Interface,  Concert Radio,  Cruise C...  "
      ]
     },
     "execution_count": 159,
     "metadata": {},
     "output_type": "execute_result"
    }
   ],
   "source": [
    "carzone_data.head()"
   ]
  }
 ],
 "metadata": {
  "kernelspec": {
   "display_name": "Python 3",
   "language": "python",
   "name": "python3"
  },
  "language_info": {
   "codemirror_mode": {
    "name": "ipython",
    "version": 3
   },
   "file_extension": ".py",
   "mimetype": "text/x-python",
   "name": "python",
   "nbconvert_exporter": "python",
   "pygments_lexer": "ipython3",
   "version": "3.7.4"
  }
 },
 "nbformat": 4,
 "nbformat_minor": 2
}
